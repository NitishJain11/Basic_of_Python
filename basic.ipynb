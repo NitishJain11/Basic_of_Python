{
 "cells": [
  {
   "cell_type": "code",
   "execution_count": null,
   "id": "08d3db2f-7b13-4464-bfc6-1639bf307821",
   "metadata": {},
   "outputs": [],
   "source": [
    "# Q1 who developed python programming language\n",
    "\n",
    "# Answer->Python programming language was created by Guido van Rossum in the late 1980s and was first released in 1991. Since then, it has been continuously developed and improved by\n",
    "# a large community of developers and contributors"
   ]
  },
  {
   "cell_type": "code",
   "execution_count": null,
   "id": "bc2b434d-9df6-4bb7-8063-33b5d78a4f9a",
   "metadata": {},
   "outputs": [],
   "source": [
    "# Q2 ->\n",
    "# which type of programming does  python support\n",
    "\n",
    "# Answer ->Imperative Programming: Python supports imperative programming, which involves giving the computer a set of commands to perform. Imperative programming is the most common programming paradigm used in Python.\n",
    "\n",
    "#         Object-Oriented Programming (OOP): Python is also an object-oriented programming language. OOP allows you to create reusable code in the form of objects that have their own properties and methods.\n",
    "\n",
    "#         Functional Programming: Python supports functional programming, which involves writing code in a way that emphasizes functions and their inputs and outputs.\n",
    "\n",
    "#         Procedural Programming: Python also supports procedural programming, which involves breaking down a program into smaller, simpler functions that can be called in a specific order."
   ]
  },
  {
   "cell_type": "code",
   "execution_count": null,
   "id": "5d711018-8203-44fd-b4cc-dc6c972f6bc5",
   "metadata": {},
   "outputs": [],
   "source": [
    "# Q3->\n",
    "# is python case sensetive when dealing with identifiers\n",
    "\n",
    "# Answer ->Yes, Python is a case-sensitive language when it comes to identifiers such as variable names, function names, and class names. This means that identifiers that have different cases are considered to be different and distinct from each other.\n",
    "\n",
    "#         For example, the variable name \"my_variable\" is different from \"my_Variable\" and \"My_Variable\". If you try to use a variable with a different case than the one you defined earlier, you'll get a \"NameError\" because Python will treat it as a new, undefined variable.\n",
    "\n",
    "#         It's important to be consistent with the casing of your identifiers to avoid confusion and errors in your code."
   ]
  },
  {
   "cell_type": "code",
   "execution_count": null,
   "id": "0d1d42a6-fdbd-4a4b-bcfe-3c7fb46c1e30",
   "metadata": {},
   "outputs": [],
   "source": [
    "# Q4->\n",
    "# what is the correct extension of the python file\n",
    "\n",
    "# Answer->The correct extension for Python files is \".py\".\n",
    "\n",
    "# When you save a Python file, you should give it a name followed by the \".py\" extension.\n",
    "# For example, if you want to save a Python file with the name \"my_program\", you would save it as \"my_program.py\""
   ]
  },
  {
   "cell_type": "code",
   "execution_count": null,
   "id": "96748ec8-2759-4363-8df1-3bc616a51619",
   "metadata": {},
   "outputs": [],
   "source": [
    "# Q5->\n",
    "# is python code compiled or interpreted \n",
    "\n",
    "# Answer->\n",
    "#         Python is an interpreted language, which means that Python code is executed directly by the interpreter, rather than being compiled into machine code like in compiled languages such as C or Java.\n",
    "\n",
    "# When you run a Python program, the interpreter reads the source code and executes it line by line. The interpreter translates each line of code into bytecode, which is a lower-level form of code that can\n",
    "# be executed by the interpreter. This process happens automatically and in real-time, without the need for a separate compilation step.\n",
    "\n",
    "# The advantage of this approach is that Python code can be written and executed quickly and easily, without the need for a time-consuming compilation step. Additionally, Python's dynamic nature allows for\n",
    "# more flexibility and interactivity during development, as changes to the code can be immediately tested and run without needing to recompile the entire program."
   ]
  },
  {
   "cell_type": "code",
   "execution_count": null,
   "id": "75f51c77-3ee7-469d-a8d2-763cbfd22a35",
   "metadata": {},
   "outputs": [],
   "source": [
    "# Q6->\n",
    "# Name a few blocks of code used to define in python language\n",
    "\n",
    "# Answer ->\n",
    "\n",
    "# Function Definition Block: A function definition block is used to define a reusable piece of code that performs a specific task. It is defined using the \"def\" keyword, followed by the name of the function and its parameters. For example:\n",
    "\n",
    "# python\n",
    "# Copy code\n",
    "def my_function(param1, param2):\n",
    "    # code block for the function\n",
    "# Class Definition Block: A class definition block is used to define a blueprint for creating objects with similar attributes and methods. It is defined using the \"class\" keyword, followed by the name of the class. For example:\n",
    "\n",
    "# ruby\n",
    "# Copy code\n",
    "class MyClass:\n",
    "    # code block for the class\n",
    "# Conditional Blocks: Conditional blocks are used to execute code based on whether a certain condition is true or false. The two most common types of conditional blocks in Python are \"if\" statements and \"while\" loops. For example:\n",
    "\n",
    "# yaml\n",
    "# Copy code\n",
    "if x > 0:\n",
    "    # code block for if statement\n",
    "while x < 10:\n",
    "    # code block for while lo\n"
   ]
  },
  {
   "cell_type": "code",
   "execution_count": null,
   "id": "de240cc1-5a98-4974-abf7-b6f98830fdb0",
   "metadata": {},
   "outputs": [],
   "source": [
    "# Q7->\n",
    "# # state a character used to give single line comments in python\n",
    "\n",
    "# Answer->In Python, the hash symbol (#) is used to indicate a single-line comment. When the interpreter encounters a hash symbol in a line of code, it ignores the rest of the line and does not execute\n",
    "#     it. This allows developers to add comments to their code "
   ]
  },
  {
   "cell_type": "code",
   "execution_count": 3,
   "id": "c886a565-27ef-4d30-bde1-9d776e5c9c3b",
   "metadata": {},
   "outputs": [
    {
     "name": "stdout",
     "output_type": "stream",
     "text": [
      "3.10.8 | packaged by conda-forge | (main, Nov 22 2022, 08:26:04) [GCC 10.4.0]\n"
     ]
    }
   ],
   "source": [
    "# Q8->Mention  functions which can help us to find the version of python  that  we are currently working on\n",
    "\n",
    "import sys\n",
    "print(sys.version)\n"
   ]
  },
  {
   "cell_type": "code",
   "execution_count": 4,
   "id": "74a15b6d-0e0a-458d-a012-b45788101007",
   "metadata": {},
   "outputs": [
    {
     "name": "stdout",
     "output_type": "stream",
     "text": [
      "81\n"
     ]
    }
   ],
   "source": [
    "# Q9->python supports the creation of anonymous functions at runtime , using a construct called ....lambda...........\n",
    "# Answer->Python supports the creation of anonymous functions at runtime using a construct called \"lambda\"\n",
    "a= lambda x:x**2\n",
    "print(a(9))"
   ]
  },
  {
   "cell_type": "code",
   "execution_count": null,
   "id": "53ff1340-ac07-4534-a5ba-03d2e1dc9674",
   "metadata": {},
   "outputs": [],
   "source": [
    "# Q10->what does pip stand for python\n",
    "\n",
    "# Answer->\n",
    "# PIP stands for \"Pip Installs Packages\" or \"Pip Installs Python\".\n",
    "\n",
    "# PIP is a package management system used to install and manage software packages\n",
    "# written in Python. It allows you to easily download, install, and manage third-party\n",
    "# Python packages and dependencies, as well as update or remove them when necessary.\n",
    "\n",
    "# PIP is included by default in Python versions 3.4 and above, and can be installed\n",
    "# separately for earlier versions of Python. It is commonly used by Python developers \n",
    "# and users to streamline the installation and management of Python packages and libraries."
   ]
  },
  {
   "cell_type": "code",
   "execution_count": null,
   "id": "5371496a-c2ec-4719-8ff6-d4f7b314ee50",
   "metadata": {},
   "outputs": [],
   "source": [
    "# Q11->\n",
    "\n",
    "# Mention  a few built in functions in python\n",
    "\n",
    "# Answer->\n",
    "\n",
    "# print(): Prints a value to the console.\n",
    "# type(): Returns the type of a variable.\n",
    "# len(): Returns the length of an object, such as a string or a list.\n",
    "# str(): Converts an object to a string.\n",
    "# int(): Converts an object to an integer.\n",
    "# float(): Converts an object to a floating-point number.\n",
    "# input(): Reads a line of text from the console.\n",
    "# range(): Generates a sequence of numbers.\n",
    "# list(): Creates a list from a sequence of values.\n",
    "# tuple(): Creates a tuple from a sequence of values.\n",
    "# dict(): Creates a dictionary from a sequence of key-value pairs.\n",
    "# set(): Creates a set from a sequence of values.\n",
    "# abs(): Returns the absolute value of a number.\n",
    "# max(): Returns the maximum value in a sequence.\n",
    "# min(): Returns the minimum value in a sequence."
   ]
  },
  {
   "cell_type": "code",
   "execution_count": null,
   "id": "bd687339-7c90-495e-bbc5-f6741ae58188",
   "metadata": {},
   "outputs": [],
   "source": [
    " # Q12->what is the maximum possible length of an identifier in python\n",
    " #    Answer-> An identifier can have a maximum length of 79 characters in \n",
    " #    Python. Python is one of the most popular programming languages"
   ]
  },
  {
   "cell_type": "code",
   "execution_count": null,
   "id": "2e333eb5-e961-4fb2-b57f-c087f2f167a9",
   "metadata": {},
   "outputs": [],
   "source": [
    "# Q13->what are the benefits of using python \n",
    "\n",
    "# Answer->Easy to Learn: Python has a simple and readable syntax that is easy to understand, making it an excellent language for beginners.\n",
    "\n",
    "# Large Community: Python has a large and supportive community of developers, who contribute to a variety of open-source projects\n",
    "# , libraries, and tools.\n",
    "\n",
    "# Cross-platform Compatibility: Python can run on various platforms, including Windows, Mac OS, and Linux, making it a versatile language.\n",
    "\n",
    "# Powerful Libraries: Python has a vast collection of libraries and modules that allow developers to perform complex tasks easily, such as data\n",
    "# analysis, machine learning, and web development.\n",
    "\n",
    "# Scalability: Python is scalable and can be used to build applications of any size, from small scripts to large enterprise systems.\n",
    "\n",
    "# High-level Language: Python is a high-level language that abstracts away many of the low-level details of computer programming, allowing \n",
    "# developers to focus on the logic of the code.\n",
    "\n",
    "# Rapid Prototyping: Python is ideal for rapid prototyping of applications, as it has a fast development cycle and requires fewer lines of\n",
    "# code than other programming languages.\n",
    "\n",
    "# Open-source: Python is an open-source language, which means it is free to use, modify, and distribute, making it an accessible language\n",
    "# for developers of all skill levels"
   ]
  },
  {
   "cell_type": "code",
   "execution_count": null,
   "id": "2c14142b-9973-4e72-94f7-99bc4afa0b74",
   "metadata": {},
   "outputs": [],
   "source": [
    "# Q14->\n",
    "# How to install python on windows and set path variables\n",
    "\n",
    "# Answer->\n",
    "\n",
    "# Go to the official Python website at https://www.python.org/downloads/ \n",
    "# and download the latest version of Python for Windows\n",
    "# Run the installer and select the \"Add Python to PATH\" option during the installation process.\n",
    "# To set the path variables, right-click on the \"My Computer\" icon and select \"Properties\". In \n",
    "# the \"System Properties\" window, click on the \"Advanced\" tab, then click on the \"Environment Variables\" button.\n",
    "# Under \"System Variables\", scroll down and select the \"Path\" variable, then click the \"Edit\" button.\n",
    "# Add the path to your Python installation directory to the list of paths. For example, if Python is installed in\n",
    "# the default location, you would add \"C:\\Python39\" (without the quotes) to the end of the list."
   ]
  },
  {
   "cell_type": "code",
   "execution_count": null,
   "id": "94a6cc8c-9837-44cb-9967-20f021bf851e",
   "metadata": {},
   "outputs": [],
   "source": [
    "# Q15->\n",
    "# is indentation required in python\n",
    "\n",
    "# Answer->\n",
    "\n",
    "# Yes, indentation is required in Python. Python uses whitespace (indentation) to delimit blocks of code. \n",
    "# This means that instead of using curly braces or other symbols to indicate the beginning and end of blocks of code, \n",
    "# Python uses indentation to group statements together.\n"
   ]
  },
  {
   "cell_type": "code",
   "execution_count": null,
   "id": "9d83cd73-d2af-488c-bbec-7fdf456ba1ba",
   "metadata": {},
   "outputs": [],
   "source": [
    "# Q16 -> \n",
    "# How to memory managed in python\n",
    "\n",
    "# Answer->\n",
    "\n",
    "# Python uses the dynamic memory allocation which is managed by the Heap data structure. Memory Heap holds the \n",
    "# objects and other data structures that will be used in the program. Python memory manager manages the allocation\n",
    "# or de-allocation of the heap memory space through the API functions.\n"
   ]
  }
 ],
 "metadata": {
  "kernelspec": {
   "display_name": "Python 3 (ipykernel)",
   "language": "python",
   "name": "python3"
  },
  "language_info": {
   "codemirror_mode": {
    "name": "ipython",
    "version": 3
   },
   "file_extension": ".py",
   "mimetype": "text/x-python",
   "name": "python",
   "nbconvert_exporter": "python",
   "pygments_lexer": "ipython3",
   "version": "3.10.8"
  }
 },
 "nbformat": 4,
 "nbformat_minor": 5
}
